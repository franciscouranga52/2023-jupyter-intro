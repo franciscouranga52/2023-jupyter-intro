{
 "cells": [
  {
   "cell_type": "markdown",
   "metadata": {
    "id": "_QNkEvzzryTG"
   },
   "source": [
    "# Oil v. Gold Comparison\n",
    "\n",
    "You want to compare the monthly closing price of gold v. oil over the past decade.\n",
    "\n",
    "The easiest way to uncover a pattern will be to line graph the data\n",
    "\n",
    "The data can be [found here](https://drive.google.com/file/d/122tdS2eTZEq9q7bbKEZMf6168Vi8biRh/view?usp=share_link).\n",
    "\n",
    "\n",
    "\n",
    " "
   ]
  },
  {
   "cell_type": "code",
   "execution_count": 1,
   "metadata": {
    "id": "3R7HNm6NrxnK"
   },
   "outputs": [],
   "source": [
    "import pandas as pd\n",
    "import numpy as np"
   ]
  },
  {
   "cell_type": "code",
   "execution_count": 2,
   "metadata": {
    "id": "t66kNipJrzY2"
   },
   "outputs": [
    {
     "data": {
      "text/html": [
       "<div>\n",
       "<style scoped>\n",
       "    .dataframe tbody tr th:only-of-type {\n",
       "        vertical-align: middle;\n",
       "    }\n",
       "\n",
       "    .dataframe tbody tr th {\n",
       "        vertical-align: top;\n",
       "    }\n",
       "\n",
       "    .dataframe thead th {\n",
       "        text-align: right;\n",
       "    }\n",
       "</style>\n",
       "<table border=\"1\" class=\"dataframe\">\n",
       "  <thead>\n",
       "    <tr style=\"text-align: right;\">\n",
       "      <th></th>\n",
       "      <th>GC1 Comdty (Gold)</th>\n",
       "      <th>Unnamed: 1</th>\n",
       "      <th>Unnamed: 2</th>\n",
       "      <th>CL1 Comdty (Oil)</th>\n",
       "      <th>Unnamed: 4</th>\n",
       "    </tr>\n",
       "  </thead>\n",
       "  <tbody>\n",
       "    <tr>\n",
       "      <th>0</th>\n",
       "      <td>Date</td>\n",
       "      <td>PX_LAST</td>\n",
       "      <td>NaN</td>\n",
       "      <td>Date</td>\n",
       "      <td>PX_LAST</td>\n",
       "    </tr>\n",
       "    <tr>\n",
       "      <th>1</th>\n",
       "      <td>1/31/2008</td>\n",
       "      <td>922.7</td>\n",
       "      <td>NaN</td>\n",
       "      <td>1/31/2008</td>\n",
       "      <td>91.75</td>\n",
       "    </tr>\n",
       "    <tr>\n",
       "      <th>2</th>\n",
       "      <td>2/29/2008</td>\n",
       "      <td>975</td>\n",
       "      <td>NaN</td>\n",
       "      <td>2/29/2008</td>\n",
       "      <td>101.84</td>\n",
       "    </tr>\n",
       "    <tr>\n",
       "      <th>3</th>\n",
       "      <td>3/31/2008</td>\n",
       "      <td>916.2</td>\n",
       "      <td>NaN</td>\n",
       "      <td>3/31/2008</td>\n",
       "      <td>101.58</td>\n",
       "    </tr>\n",
       "    <tr>\n",
       "      <th>4</th>\n",
       "      <td>4/30/2008</td>\n",
       "      <td>865.1</td>\n",
       "      <td>NaN</td>\n",
       "      <td>4/30/2008</td>\n",
       "      <td>113.46</td>\n",
       "    </tr>\n",
       "    <tr>\n",
       "      <th>...</th>\n",
       "      <td>...</td>\n",
       "      <td>...</td>\n",
       "      <td>...</td>\n",
       "      <td>...</td>\n",
       "      <td>...</td>\n",
       "    </tr>\n",
       "    <tr>\n",
       "      <th>117</th>\n",
       "      <td>9/29/2017</td>\n",
       "      <td>1281.5</td>\n",
       "      <td>NaN</td>\n",
       "      <td>9/29/2017</td>\n",
       "      <td>51.67</td>\n",
       "    </tr>\n",
       "    <tr>\n",
       "      <th>118</th>\n",
       "      <td>10/31/2017</td>\n",
       "      <td>1270.5</td>\n",
       "      <td>NaN</td>\n",
       "      <td>10/31/2017</td>\n",
       "      <td>54.38</td>\n",
       "    </tr>\n",
       "    <tr>\n",
       "      <th>119</th>\n",
       "      <td>11/30/2017</td>\n",
       "      <td>1273.2</td>\n",
       "      <td>NaN</td>\n",
       "      <td>11/30/2017</td>\n",
       "      <td>57.4</td>\n",
       "    </tr>\n",
       "    <tr>\n",
       "      <th>120</th>\n",
       "      <td>12/29/2017</td>\n",
       "      <td>1309.3</td>\n",
       "      <td>NaN</td>\n",
       "      <td>12/29/2017</td>\n",
       "      <td>60.42</td>\n",
       "    </tr>\n",
       "    <tr>\n",
       "      <th>121</th>\n",
       "      <td>1/31/2018</td>\n",
       "      <td>1339</td>\n",
       "      <td>NaN</td>\n",
       "      <td>1/31/2018</td>\n",
       "      <td>64.73</td>\n",
       "    </tr>\n",
       "  </tbody>\n",
       "</table>\n",
       "<p>122 rows × 5 columns</p>\n",
       "</div>"
      ],
      "text/plain": [
       "    GC1 Comdty (Gold) Unnamed: 1  Unnamed: 2 CL1 Comdty (Oil) Unnamed: 4\n",
       "0                Date    PX_LAST         NaN             Date    PX_LAST\n",
       "1           1/31/2008      922.7         NaN        1/31/2008      91.75\n",
       "2           2/29/2008        975         NaN        2/29/2008     101.84\n",
       "3           3/31/2008      916.2         NaN        3/31/2008     101.58\n",
       "4           4/30/2008      865.1         NaN        4/30/2008     113.46\n",
       "..                ...        ...         ...              ...        ...\n",
       "117         9/29/2017     1281.5         NaN        9/29/2017      51.67\n",
       "118        10/31/2017     1270.5         NaN       10/31/2017      54.38\n",
       "119        11/30/2017     1273.2         NaN       11/30/2017       57.4\n",
       "120        12/29/2017     1309.3         NaN       12/29/2017      60.42\n",
       "121         1/31/2018       1339         NaN        1/31/2018      64.73\n",
       "\n",
       "[122 rows x 5 columns]"
      ]
     },
     "execution_count": 2,
     "metadata": {},
     "output_type": "execute_result"
    }
   ],
   "source": [
    "df_raw = pd.read_csv(\"data/oil-v-gold.csv\")\n",
    "df_raw"
   ]
  },
  {
   "cell_type": "code",
   "execution_count": 3,
   "metadata": {},
   "outputs": [
    {
     "name": "stdout",
     "output_type": "stream",
     "text": [
      "<class 'pandas.core.frame.DataFrame'>\n",
      "RangeIndex: 122 entries, 0 to 121\n",
      "Data columns (total 5 columns):\n",
      " #   Column             Non-Null Count  Dtype  \n",
      "---  ------             --------------  -----  \n",
      " 0   GC1 Comdty (Gold)  122 non-null    object \n",
      " 1   Unnamed: 1         122 non-null    object \n",
      " 2   Unnamed: 2         0 non-null      float64\n",
      " 3   CL1 Comdty (Oil)   122 non-null    object \n",
      " 4   Unnamed: 4         122 non-null    object \n",
      "dtypes: float64(1), object(4)\n",
      "memory usage: 4.9+ KB\n"
     ]
    }
   ],
   "source": [
    "df_raw.info()"
   ]
  },
  {
   "cell_type": "markdown",
   "metadata": {
    "id": "qIDWNTZfsko-"
   },
   "source": [
    "## What is our approach? (pseudocoding)"
   ]
  },
  {
   "cell_type": "markdown",
   "metadata": {},
   "source": [
    "### Fix it\n",
    "### drop duplicate and nan values\n",
    "### convert object into floating point numbers\n",
    "### drop column names, provide sensical\n",
    "### rename gold and oil columns"
   ]
  },
  {
   "cell_type": "code",
   "execution_count": 4,
   "metadata": {},
   "outputs": [
    {
     "data": {
      "text/plain": [
       "Index(['GC1 Comdty (Gold)', 'Unnamed: 1', 'Unnamed: 2', 'CL1 Comdty (Oil)',\n",
       "       'Unnamed: 4'],\n",
       "      dtype='object')"
      ]
     },
     "execution_count": 4,
     "metadata": {},
     "output_type": "execute_result"
    }
   ],
   "source": [
    "df_raw.columns"
   ]
  },
  {
   "cell_type": "code",
   "execution_count": 5,
   "metadata": {},
   "outputs": [
    {
     "data": {
      "text/html": [
       "<div>\n",
       "<style scoped>\n",
       "    .dataframe tbody tr th:only-of-type {\n",
       "        vertical-align: middle;\n",
       "    }\n",
       "\n",
       "    .dataframe tbody tr th {\n",
       "        vertical-align: top;\n",
       "    }\n",
       "\n",
       "    .dataframe thead th {\n",
       "        text-align: right;\n",
       "    }\n",
       "</style>\n",
       "<table border=\"1\" class=\"dataframe\">\n",
       "  <thead>\n",
       "    <tr style=\"text-align: right;\">\n",
       "      <th></th>\n",
       "      <th>GC1 Comdty (Gold)</th>\n",
       "      <th>Unnamed: 1</th>\n",
       "      <th>Unnamed: 4</th>\n",
       "    </tr>\n",
       "  </thead>\n",
       "  <tbody>\n",
       "    <tr>\n",
       "      <th>0</th>\n",
       "      <td>Date</td>\n",
       "      <td>PX_LAST</td>\n",
       "      <td>PX_LAST</td>\n",
       "    </tr>\n",
       "    <tr>\n",
       "      <th>1</th>\n",
       "      <td>1/31/2008</td>\n",
       "      <td>922.7</td>\n",
       "      <td>91.75</td>\n",
       "    </tr>\n",
       "    <tr>\n",
       "      <th>2</th>\n",
       "      <td>2/29/2008</td>\n",
       "      <td>975</td>\n",
       "      <td>101.84</td>\n",
       "    </tr>\n",
       "    <tr>\n",
       "      <th>3</th>\n",
       "      <td>3/31/2008</td>\n",
       "      <td>916.2</td>\n",
       "      <td>101.58</td>\n",
       "    </tr>\n",
       "    <tr>\n",
       "      <th>4</th>\n",
       "      <td>4/30/2008</td>\n",
       "      <td>865.1</td>\n",
       "      <td>113.46</td>\n",
       "    </tr>\n",
       "    <tr>\n",
       "      <th>...</th>\n",
       "      <td>...</td>\n",
       "      <td>...</td>\n",
       "      <td>...</td>\n",
       "    </tr>\n",
       "    <tr>\n",
       "      <th>117</th>\n",
       "      <td>9/29/2017</td>\n",
       "      <td>1281.5</td>\n",
       "      <td>51.67</td>\n",
       "    </tr>\n",
       "    <tr>\n",
       "      <th>118</th>\n",
       "      <td>10/31/2017</td>\n",
       "      <td>1270.5</td>\n",
       "      <td>54.38</td>\n",
       "    </tr>\n",
       "    <tr>\n",
       "      <th>119</th>\n",
       "      <td>11/30/2017</td>\n",
       "      <td>1273.2</td>\n",
       "      <td>57.4</td>\n",
       "    </tr>\n",
       "    <tr>\n",
       "      <th>120</th>\n",
       "      <td>12/29/2017</td>\n",
       "      <td>1309.3</td>\n",
       "      <td>60.42</td>\n",
       "    </tr>\n",
       "    <tr>\n",
       "      <th>121</th>\n",
       "      <td>1/31/2018</td>\n",
       "      <td>1339</td>\n",
       "      <td>64.73</td>\n",
       "    </tr>\n",
       "  </tbody>\n",
       "</table>\n",
       "<p>122 rows × 3 columns</p>\n",
       "</div>"
      ],
      "text/plain": [
       "    GC1 Comdty (Gold) Unnamed: 1 Unnamed: 4\n",
       "0                Date    PX_LAST    PX_LAST\n",
       "1           1/31/2008      922.7      91.75\n",
       "2           2/29/2008        975     101.84\n",
       "3           3/31/2008      916.2     101.58\n",
       "4           4/30/2008      865.1     113.46\n",
       "..                ...        ...        ...\n",
       "117         9/29/2017     1281.5      51.67\n",
       "118        10/31/2017     1270.5      54.38\n",
       "119        11/30/2017     1273.2       57.4\n",
       "120        12/29/2017     1309.3      60.42\n",
       "121         1/31/2018       1339      64.73\n",
       "\n",
       "[122 rows x 3 columns]"
      ]
     },
     "execution_count": 5,
     "metadata": {},
     "output_type": "execute_result"
    }
   ],
   "source": [
    "df = df_raw[['GC1 Comdty (Gold)', 'Unnamed: 1',\n",
    "       'Unnamed: 4']]\n",
    "df"
   ]
  },
  {
   "cell_type": "code",
   "execution_count": 6,
   "metadata": {},
   "outputs": [
    {
     "data": {
      "text/html": [
       "<div>\n",
       "<style scoped>\n",
       "    .dataframe tbody tr th:only-of-type {\n",
       "        vertical-align: middle;\n",
       "    }\n",
       "\n",
       "    .dataframe tbody tr th {\n",
       "        vertical-align: top;\n",
       "    }\n",
       "\n",
       "    .dataframe thead th {\n",
       "        text-align: right;\n",
       "    }\n",
       "</style>\n",
       "<table border=\"1\" class=\"dataframe\">\n",
       "  <thead>\n",
       "    <tr style=\"text-align: right;\">\n",
       "      <th></th>\n",
       "      <th>closing_date</th>\n",
       "      <th>px_gold</th>\n",
       "      <th>px_oil</th>\n",
       "    </tr>\n",
       "  </thead>\n",
       "  <tbody>\n",
       "    <tr>\n",
       "      <th>0</th>\n",
       "      <td>Date</td>\n",
       "      <td>PX_LAST</td>\n",
       "      <td>PX_LAST</td>\n",
       "    </tr>\n",
       "    <tr>\n",
       "      <th>1</th>\n",
       "      <td>1/31/2008</td>\n",
       "      <td>922.7</td>\n",
       "      <td>91.75</td>\n",
       "    </tr>\n",
       "    <tr>\n",
       "      <th>2</th>\n",
       "      <td>2/29/2008</td>\n",
       "      <td>975</td>\n",
       "      <td>101.84</td>\n",
       "    </tr>\n",
       "    <tr>\n",
       "      <th>3</th>\n",
       "      <td>3/31/2008</td>\n",
       "      <td>916.2</td>\n",
       "      <td>101.58</td>\n",
       "    </tr>\n",
       "    <tr>\n",
       "      <th>4</th>\n",
       "      <td>4/30/2008</td>\n",
       "      <td>865.1</td>\n",
       "      <td>113.46</td>\n",
       "    </tr>\n",
       "    <tr>\n",
       "      <th>...</th>\n",
       "      <td>...</td>\n",
       "      <td>...</td>\n",
       "      <td>...</td>\n",
       "    </tr>\n",
       "    <tr>\n",
       "      <th>117</th>\n",
       "      <td>9/29/2017</td>\n",
       "      <td>1281.5</td>\n",
       "      <td>51.67</td>\n",
       "    </tr>\n",
       "    <tr>\n",
       "      <th>118</th>\n",
       "      <td>10/31/2017</td>\n",
       "      <td>1270.5</td>\n",
       "      <td>54.38</td>\n",
       "    </tr>\n",
       "    <tr>\n",
       "      <th>119</th>\n",
       "      <td>11/30/2017</td>\n",
       "      <td>1273.2</td>\n",
       "      <td>57.4</td>\n",
       "    </tr>\n",
       "    <tr>\n",
       "      <th>120</th>\n",
       "      <td>12/29/2017</td>\n",
       "      <td>1309.3</td>\n",
       "      <td>60.42</td>\n",
       "    </tr>\n",
       "    <tr>\n",
       "      <th>121</th>\n",
       "      <td>1/31/2018</td>\n",
       "      <td>1339</td>\n",
       "      <td>64.73</td>\n",
       "    </tr>\n",
       "  </tbody>\n",
       "</table>\n",
       "<p>122 rows × 3 columns</p>\n",
       "</div>"
      ],
      "text/plain": [
       "    closing_date  px_gold   px_oil\n",
       "0           Date  PX_LAST  PX_LAST\n",
       "1      1/31/2008    922.7    91.75\n",
       "2      2/29/2008      975   101.84\n",
       "3      3/31/2008    916.2   101.58\n",
       "4      4/30/2008    865.1   113.46\n",
       "..           ...      ...      ...\n",
       "117    9/29/2017   1281.5    51.67\n",
       "118   10/31/2017   1270.5    54.38\n",
       "119   11/30/2017   1273.2     57.4\n",
       "120   12/29/2017   1309.3    60.42\n",
       "121    1/31/2018     1339    64.73\n",
       "\n",
       "[122 rows x 3 columns]"
      ]
     },
     "execution_count": 6,
     "metadata": {},
     "output_type": "execute_result"
    }
   ],
   "source": [
    "df.columns = [\"closing_date\", \"px_gold\", \"px_oil\"]\n",
    "df"
   ]
  },
  {
   "cell_type": "code",
   "execution_count": 7,
   "metadata": {},
   "outputs": [
    {
     "data": {
      "text/html": [
       "<div>\n",
       "<style scoped>\n",
       "    .dataframe tbody tr th:only-of-type {\n",
       "        vertical-align: middle;\n",
       "    }\n",
       "\n",
       "    .dataframe tbody tr th {\n",
       "        vertical-align: top;\n",
       "    }\n",
       "\n",
       "    .dataframe thead th {\n",
       "        text-align: right;\n",
       "    }\n",
       "</style>\n",
       "<table border=\"1\" class=\"dataframe\">\n",
       "  <thead>\n",
       "    <tr style=\"text-align: right;\">\n",
       "      <th></th>\n",
       "      <th>closing_date</th>\n",
       "      <th>px_gold</th>\n",
       "      <th>px_oil</th>\n",
       "    </tr>\n",
       "  </thead>\n",
       "  <tbody>\n",
       "    <tr>\n",
       "      <th>0</th>\n",
       "      <td>1/31/2008</td>\n",
       "      <td>922.7</td>\n",
       "      <td>91.75</td>\n",
       "    </tr>\n",
       "    <tr>\n",
       "      <th>1</th>\n",
       "      <td>2/29/2008</td>\n",
       "      <td>975</td>\n",
       "      <td>101.84</td>\n",
       "    </tr>\n",
       "    <tr>\n",
       "      <th>2</th>\n",
       "      <td>3/31/2008</td>\n",
       "      <td>916.2</td>\n",
       "      <td>101.58</td>\n",
       "    </tr>\n",
       "    <tr>\n",
       "      <th>3</th>\n",
       "      <td>4/30/2008</td>\n",
       "      <td>865.1</td>\n",
       "      <td>113.46</td>\n",
       "    </tr>\n",
       "    <tr>\n",
       "      <th>4</th>\n",
       "      <td>5/30/2008</td>\n",
       "      <td>887.3</td>\n",
       "      <td>127.35</td>\n",
       "    </tr>\n",
       "    <tr>\n",
       "      <th>...</th>\n",
       "      <td>...</td>\n",
       "      <td>...</td>\n",
       "      <td>...</td>\n",
       "    </tr>\n",
       "    <tr>\n",
       "      <th>116</th>\n",
       "      <td>9/29/2017</td>\n",
       "      <td>1281.5</td>\n",
       "      <td>51.67</td>\n",
       "    </tr>\n",
       "    <tr>\n",
       "      <th>117</th>\n",
       "      <td>10/31/2017</td>\n",
       "      <td>1270.5</td>\n",
       "      <td>54.38</td>\n",
       "    </tr>\n",
       "    <tr>\n",
       "      <th>118</th>\n",
       "      <td>11/30/2017</td>\n",
       "      <td>1273.2</td>\n",
       "      <td>57.4</td>\n",
       "    </tr>\n",
       "    <tr>\n",
       "      <th>119</th>\n",
       "      <td>12/29/2017</td>\n",
       "      <td>1309.3</td>\n",
       "      <td>60.42</td>\n",
       "    </tr>\n",
       "    <tr>\n",
       "      <th>120</th>\n",
       "      <td>1/31/2018</td>\n",
       "      <td>1339</td>\n",
       "      <td>64.73</td>\n",
       "    </tr>\n",
       "  </tbody>\n",
       "</table>\n",
       "<p>121 rows × 3 columns</p>\n",
       "</div>"
      ],
      "text/plain": [
       "    closing_date px_gold  px_oil\n",
       "0      1/31/2008   922.7   91.75\n",
       "1      2/29/2008     975  101.84\n",
       "2      3/31/2008   916.2  101.58\n",
       "3      4/30/2008   865.1  113.46\n",
       "4      5/30/2008   887.3  127.35\n",
       "..           ...     ...     ...\n",
       "116    9/29/2017  1281.5   51.67\n",
       "117   10/31/2017  1270.5   54.38\n",
       "118   11/30/2017  1273.2    57.4\n",
       "119   12/29/2017  1309.3   60.42\n",
       "120    1/31/2018    1339   64.73\n",
       "\n",
       "[121 rows x 3 columns]"
      ]
     },
     "execution_count": 7,
     "metadata": {},
     "output_type": "execute_result"
    }
   ],
   "source": [
    "## delete top row\n",
    "## reset index\n",
    "df = df.drop(0).reset_index(drop = True)\n",
    "df"
   ]
  },
  {
   "cell_type": "code",
   "execution_count": 13,
   "metadata": {},
   "outputs": [
    {
     "name": "stdout",
     "output_type": "stream",
     "text": [
      "<class 'pandas.core.frame.DataFrame'>\n",
      "RangeIndex: 121 entries, 0 to 120\n",
      "Data columns (total 3 columns):\n",
      " #   Column        Non-Null Count  Dtype  \n",
      "---  ------        --------------  -----  \n",
      " 0   closing_date  121 non-null    object \n",
      " 1   px_gold       121 non-null    float64\n",
      " 2   px_oil        121 non-null    float64\n",
      "dtypes: float64(2), object(1)\n",
      "memory usage: 3.0+ KB\n"
     ]
    }
   ],
   "source": [
    "## convert to floating point numbers\n",
    "df[\"px_gold\"] = pd.to_numeric(df[\"px_gold\"], errors = \"coerce\")\n",
    "df[\"px_oil\"] = pd.to_numeric(df[\"px_oil\"], errors = \"coerce\")\n",
    "df.info()"
   ]
  },
  {
   "cell_type": "code",
   "execution_count": 32,
   "metadata": {},
   "outputs": [],
   "source": [
    "df[\"index_gold\"] = df[\"px_gold\"] / df[\"px_gold\"].iat[0]*100\n",
    "df[\"index_oil\"] = df[\"px_oil\"] / df[\"px_oil\"].iat[0]*100\n",
    "df[\"gold_pct_change\"] = (df[\"px_gold\"] / df[\"px_gold\"].iat[0]-1)*100\n",
    "df[\"oil_pct_change\"] = (df[\"px_oil\"] / df[\"px_oil\"].iat[0]-1)*100"
   ]
  },
  {
   "cell_type": "code",
   "execution_count": 33,
   "metadata": {},
   "outputs": [
    {
     "data": {
      "text/html": [
       "<div>\n",
       "<style scoped>\n",
       "    .dataframe tbody tr th:only-of-type {\n",
       "        vertical-align: middle;\n",
       "    }\n",
       "\n",
       "    .dataframe tbody tr th {\n",
       "        vertical-align: top;\n",
       "    }\n",
       "\n",
       "    .dataframe thead th {\n",
       "        text-align: right;\n",
       "    }\n",
       "</style>\n",
       "<table border=\"1\" class=\"dataframe\">\n",
       "  <thead>\n",
       "    <tr style=\"text-align: right;\">\n",
       "      <th></th>\n",
       "      <th>closing_date</th>\n",
       "      <th>px_gold</th>\n",
       "      <th>px_oil</th>\n",
       "      <th>index_gold</th>\n",
       "      <th>index_oil</th>\n",
       "      <th>gold_pct_change</th>\n",
       "      <th>oil_pct_change</th>\n",
       "    </tr>\n",
       "  </thead>\n",
       "  <tbody>\n",
       "    <tr>\n",
       "      <th>0</th>\n",
       "      <td>1/31/2008</td>\n",
       "      <td>922.7</td>\n",
       "      <td>91.75</td>\n",
       "      <td>100.000000</td>\n",
       "      <td>100.000000</td>\n",
       "      <td>0.000000</td>\n",
       "      <td>0.000000</td>\n",
       "    </tr>\n",
       "    <tr>\n",
       "      <th>1</th>\n",
       "      <td>2/29/2008</td>\n",
       "      <td>975.0</td>\n",
       "      <td>101.84</td>\n",
       "      <td>105.668148</td>\n",
       "      <td>110.997275</td>\n",
       "      <td>5.668148</td>\n",
       "      <td>10.997275</td>\n",
       "    </tr>\n",
       "    <tr>\n",
       "      <th>2</th>\n",
       "      <td>3/31/2008</td>\n",
       "      <td>916.2</td>\n",
       "      <td>101.58</td>\n",
       "      <td>99.295546</td>\n",
       "      <td>110.713896</td>\n",
       "      <td>-0.704454</td>\n",
       "      <td>10.713896</td>\n",
       "    </tr>\n",
       "    <tr>\n",
       "      <th>3</th>\n",
       "      <td>4/30/2008</td>\n",
       "      <td>865.1</td>\n",
       "      <td>113.46</td>\n",
       "      <td>93.757451</td>\n",
       "      <td>123.662125</td>\n",
       "      <td>-6.242549</td>\n",
       "      <td>23.662125</td>\n",
       "    </tr>\n",
       "    <tr>\n",
       "      <th>4</th>\n",
       "      <td>5/30/2008</td>\n",
       "      <td>887.3</td>\n",
       "      <td>127.35</td>\n",
       "      <td>96.163433</td>\n",
       "      <td>138.801090</td>\n",
       "      <td>-3.836567</td>\n",
       "      <td>38.801090</td>\n",
       "    </tr>\n",
       "    <tr>\n",
       "      <th>...</th>\n",
       "      <td>...</td>\n",
       "      <td>...</td>\n",
       "      <td>...</td>\n",
       "      <td>...</td>\n",
       "      <td>...</td>\n",
       "      <td>...</td>\n",
       "      <td>...</td>\n",
       "    </tr>\n",
       "    <tr>\n",
       "      <th>116</th>\n",
       "      <td>9/29/2017</td>\n",
       "      <td>1281.5</td>\n",
       "      <td>51.67</td>\n",
       "      <td>138.885878</td>\n",
       "      <td>56.316076</td>\n",
       "      <td>38.885878</td>\n",
       "      <td>-43.683924</td>\n",
       "    </tr>\n",
       "    <tr>\n",
       "      <th>117</th>\n",
       "      <td>10/31/2017</td>\n",
       "      <td>1270.5</td>\n",
       "      <td>54.38</td>\n",
       "      <td>137.693725</td>\n",
       "      <td>59.269755</td>\n",
       "      <td>37.693725</td>\n",
       "      <td>-40.730245</td>\n",
       "    </tr>\n",
       "    <tr>\n",
       "      <th>118</th>\n",
       "      <td>11/30/2017</td>\n",
       "      <td>1273.2</td>\n",
       "      <td>57.40</td>\n",
       "      <td>137.986344</td>\n",
       "      <td>62.561308</td>\n",
       "      <td>37.986344</td>\n",
       "      <td>-37.438692</td>\n",
       "    </tr>\n",
       "    <tr>\n",
       "      <th>119</th>\n",
       "      <td>12/29/2017</td>\n",
       "      <td>1309.3</td>\n",
       "      <td>60.42</td>\n",
       "      <td>141.898775</td>\n",
       "      <td>65.852861</td>\n",
       "      <td>41.898775</td>\n",
       "      <td>-34.147139</td>\n",
       "    </tr>\n",
       "    <tr>\n",
       "      <th>120</th>\n",
       "      <td>1/31/2018</td>\n",
       "      <td>1339.0</td>\n",
       "      <td>64.73</td>\n",
       "      <td>145.117590</td>\n",
       "      <td>70.550409</td>\n",
       "      <td>45.117590</td>\n",
       "      <td>-29.449591</td>\n",
       "    </tr>\n",
       "  </tbody>\n",
       "</table>\n",
       "<p>121 rows × 7 columns</p>\n",
       "</div>"
      ],
      "text/plain": [
       "    closing_date  px_gold  px_oil  index_gold   index_oil  gold_pct_change  \\\n",
       "0      1/31/2008    922.7   91.75  100.000000  100.000000         0.000000   \n",
       "1      2/29/2008    975.0  101.84  105.668148  110.997275         5.668148   \n",
       "2      3/31/2008    916.2  101.58   99.295546  110.713896        -0.704454   \n",
       "3      4/30/2008    865.1  113.46   93.757451  123.662125        -6.242549   \n",
       "4      5/30/2008    887.3  127.35   96.163433  138.801090        -3.836567   \n",
       "..           ...      ...     ...         ...         ...              ...   \n",
       "116    9/29/2017   1281.5   51.67  138.885878   56.316076        38.885878   \n",
       "117   10/31/2017   1270.5   54.38  137.693725   59.269755        37.693725   \n",
       "118   11/30/2017   1273.2   57.40  137.986344   62.561308        37.986344   \n",
       "119   12/29/2017   1309.3   60.42  141.898775   65.852861        41.898775   \n",
       "120    1/31/2018   1339.0   64.73  145.117590   70.550409        45.117590   \n",
       "\n",
       "     oil_pct_change  \n",
       "0          0.000000  \n",
       "1         10.997275  \n",
       "2         10.713896  \n",
       "3         23.662125  \n",
       "4         38.801090  \n",
       "..              ...  \n",
       "116      -43.683924  \n",
       "117      -40.730245  \n",
       "118      -37.438692  \n",
       "119      -34.147139  \n",
       "120      -29.449591  \n",
       "\n",
       "[121 rows x 7 columns]"
      ]
     },
     "execution_count": 33,
     "metadata": {},
     "output_type": "execute_result"
    }
   ],
   "source": [
    "df"
   ]
  },
  {
   "cell_type": "code",
   "execution_count": 29,
   "metadata": {},
   "outputs": [],
   "source": [
    "#Export to CSV\n",
    "df.to_csv(\"data/oil-v-gold-export.csv\", index = False, encoding = \"UTF8\")"
   ]
  },
  {
   "cell_type": "code",
   "execution_count": 30,
   "metadata": {},
   "outputs": [
    {
     "data": {
      "text/plain": [
       "<AxesSubplot:xlabel='closing_date'>"
      ]
     },
     "execution_count": 30,
     "metadata": {},
     "output_type": "execute_result"
    },
    {
     "data": {
      "image/png": "[encoded data removed]",
      "text/plain": [
       "<Figure size 432x288 with 1 Axes>"
      ]
     },
     "metadata": {
      "needs_background": "light"
     },
     "output_type": "display_data"
    }
   ],
   "source": [
    "# Create a graphic\n",
    "df.plot(x=\"closing_date\",\n",
    "       y=[\"px_gold\", \"px_oil\"])"
   ]
  },
  {
   "cell_type": "code",
   "execution_count": 31,
   "metadata": {},
   "outputs": [
    {
     "data": {
      "text/plain": [
       "<AxesSubplot:xlabel='closing_date'>"
      ]
     },
     "execution_count": 31,
     "metadata": {},
     "output_type": "execute_result"
    },
    {
     "data": {
      "image/png": "[encoded data removed]",
      "text/plain": [
       "<Figure size 432x288 with 1 Axes>"
      ]
     },
     "metadata": {
      "needs_background": "light"
     },
     "output_type": "display_data"
    }
   ],
   "source": [
    "# Create a graphic\n",
    "df.plot(x=\"closing_date\",\n",
    "       y=[\"index_gold\", \"index_oil\"])"
   ]
  },
  {
   "cell_type": "code",
   "execution_count": 43,
   "metadata": {},
   "outputs": [
    {
     "data": {
      "text/plain": [
       "<AxesSubplot:title={'center':'Gold v. Oil Over Time'}, xlabel='closing_date'>"
      ]
     },
     "execution_count": 43,
     "metadata": {},
     "output_type": "execute_result"
    },
    {
     "data": {
      "image/png": "[encoded data removed]",
      "text/plain": [
       "<Figure size 432x288 with 1 Axes>"
      ]
     },
     "metadata": {
      "needs_background": "light"
     },
     "output_type": "display_data"
    }
   ],
   "source": [
    "# Create a graphic\n",
    "df.plot(x=\"closing_date\",\n",
    "       y=[\"gold_pct_change\", \"oil_pct_change\"],\n",
    "       title = \"Gold v. Oil Over Time\",\n",
    "       style = {\"oil_pct_change\":\"gray\",\n",
    "               \"gold_pct_change\":\"gold\"})"
   ]
  },
  {
   "cell_type": "code",
   "execution_count": null,
   "metadata": {},
   "outputs": [],
   "source": []
  }
 ],
 "metadata": {
  "colab": {
   "authorship_tag": "ABX9TyNmKsqZZNkZcaqIyHd3td8b",
   "provenance": []
  },
  "kernelspec": {
   "display_name": "Python 3",
   "language": "python",
   "name": "python3"
  },
  "language_info": {
   "codemirror_mode": {
    "name": "ipython",
    "version": 3
   },
   "file_extension": ".py",
   "mimetype": "text/x-python",
   "name": "python",
   "nbconvert_exporter": "python",
   "pygments_lexer": "ipython3",
   "version": "3.8.8"
  }
 },
 "nbformat": 4,
 "nbformat_minor": 1
}
